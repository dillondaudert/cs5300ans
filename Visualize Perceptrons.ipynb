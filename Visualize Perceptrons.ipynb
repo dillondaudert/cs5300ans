{
 "cells": [
  {
   "cell_type": "markdown",
   "metadata": {},
   "source": [
    "# Perceptron Visualization"
   ]
  },
  {
   "cell_type": "code",
   "execution_count": null,
   "metadata": {},
   "outputs": [],
   "source": [
    "import numpy as np\n",
    "import matplotlib.pyplot as plt\n",
    "from perceptron import Perceptron"
   ]
  },
  {
   "cell_type": "code",
   "execution_count": null,
   "metadata": {},
   "outputs": [],
   "source": [
    "# Data and weights\n",
    "\n",
    "examples = np.array([[-0.8085714285714286, 0.8372093023255818], \n",
    "                     [0.3571428571428572, 0.8504983388704321],\n",
    "                     [-0.7514285714285714, -0.7308970099667773],\n",
    "                     [-0.2999999999999999, 0.1262458471760799],\n",
    "                     [ 0.8714285714285714, 0.6245847176079737],\n",
    "                     [-0.01999999999999991, -0.9235880398671097],\n",
    "                     [0.362857142857143, -0.3189368770764118],\n",
    "                     [0.8885714285714283, -0.8704318936877078]])\n",
    "\n",
    "targets = np.array([0., 0., 0., 0., 1., 1., 1., 1.])\n",
    "\n",
    "w_gen_feas = np.array([4.349652602017646, -2.609972353001155, -0.6941474928102369])\n",
    "\n",
    "w_init = np.array([-0.6217014737809046, 0.7609152728514132, 0.7718720489184812])\n",
    "\n",
    "# Add column of 1's to learn biases\n",
    "examples = np.concatenate([examples, np.ones((examples.shape[0],1))], axis=1)\n",
    "\n",
    "perceptron = Perceptron(3, W=w_init)\n",
    "num_err_history = []\n",
    "w_dist_history = []"
   ]
  },
  {
   "cell_type": "code",
   "execution_count": null,
   "metadata": {},
   "outputs": [],
   "source": [
    "def eval_perceptron(examples, targets, perceptron):\n",
    "    \"\"\"\n",
    "    Evaluates the perceptron. Returns two lists, mistakes0 and mistakes1,\n",
    "    where mistakes0 refers to misclassified negative examples and mistakes1\n",
    "    to misclassified positive examples.\n",
    "    \"\"\"\n",
    "    mistakes0 = []\n",
    "    mistakes1 = []\n",
    "    for i in range(examples.shape[0]):\n",
    "        y_hat = perceptron.predict(examples[i, :])\n",
    "        if y_hat != targets[i]:\n",
    "            # misclassified\n",
    "            if y_hat == 1.:\n",
    "                mistakes0.append(i)\n",
    "            else:\n",
    "                mistakes1.append(i)\n",
    "                \n",
    "    return (mistakes0, mistakes1)"
   ]
  },
  {
   "cell_type": "code",
   "execution_count": null,
   "metadata": {},
   "outputs": [],
   "source": [
    "def plot_perceptron(examples, targets, mistakes0, mistakes1, num_err_history, w, w_dist_history):\n",
    "    \"\"\"\n",
    "    Plot the perceptron weights, targets, and misclassified examples.\n",
    "    \"\"\"\n",
    "    \n",
    "    plt.figure(1)\n",
    "    plt.clf()\n",
    "    \n",
    "    ax = plt.subplot2grid((11,5), (0,0), colspan=5, rowspan=6)\n",
    "    ax.set_xlim([-3, 3])  \n",
    "    ax.set_ylim([-3, 3])\n",
    "    \n",
    "    for i in range(examples.shape[0]):\n",
    "        # negative class\n",
    "        if targets[i] == 0.:\n",
    "            # misclassified\n",
    "            if i in mistakes0:\n",
    "                point_desc = \"ro\"\n",
    "            else:\n",
    "                point_desc = \"go\"\n",
    "    \n",
    "        # positive class\n",
    "        else:\n",
    "            if i in mistakes1:\n",
    "                point_desc = \"sr\"\n",
    "            else:\n",
    "                point_desc = \"sg\"\n",
    "            \n",
    "        \n",
    "        plt.plot(examples[i, 0], examples[i, 1], point_desc)\n",
    "        \n",
    "    plt.title(\"Classifier\")\n",
    "    \n",
    "    # plot the decision line\n",
    "    plt.plot([-5, 5], [(-w[2]+5*w[0])/w[1], (-w[2]-5*w[0])/w[1]])\n",
    "    \n",
    "    plt.subplot2grid((11, 5), (8, 0), colspan=2, rowspan=3)\n",
    "    plt.plot(range(len(num_err_history)), num_err_history)\n",
    "    plt.axis([-1, max(15, len(num_err_history)), 0, examples.shape[0]+1])\n",
    "    plt.title(\"Number of errors\")\n",
    "    plt.xlabel(\"Iteration\")\n",
    "    plt.ylabel(\"Number of errors\")\n",
    "    \n",
    "    plt.subplot2grid((11, 5), (8, 3), colspan=2, rowspan=3)\n",
    "    plt.plot(range(len(w_dist_history)), w_dist_history)\n",
    "    plt.axis([-1, max(15, len(w_dist_history)), 0, 15])\n",
    "    plt.title(\"Distance\")\n",
    "    plt.xlabel(\"Iteration\")\n",
    "    plt.ylabel(\"Distance\")\n",
    "    \n",
    "    plt.show()\n",
    "            "
   ]
  },
  {
   "cell_type": "code",
   "execution_count": null,
   "metadata": {},
   "outputs": [],
   "source": [
    "# find incorrectly classified samples\n",
    "iteration = 0\n",
    "\n",
    "mistakes0, mistakes1 = eval_perceptron(examples, targets, perceptron)\n",
    "w = perceptron.W\n",
    "num_errs = len(mistakes0)+len(mistakes1)\n",
    "num_err_history.append(num_errs)\n",
    "# if gen feas vector exists, record distance from initial weight vector\n",
    "if w_gen_feas.shape[0] != 0:\n",
    "    w_dist_history.append(np.linalg.norm(w - w_gen_feas))\n",
    "display(\"Number of errors in iteration %d\" % num_errs)\n",
    "plot_perceptron(examples, targets, mistakes0, mistakes1, num_err_history, w, w_dist_history)"
   ]
  },
  {
   "cell_type": "code",
   "execution_count": null,
   "metadata": {
    "scrolled": true
   },
   "outputs": [],
   "source": [
    "while num_errs > 0:\n",
    "    iteration += 1\n",
    "    # one pass over dataset\n",
    "    for i in range(examples.shape[0]):\n",
    "        perceptron._train_step(examples[i, :], targets[i])\n",
    "    w = perceptron.W\n",
    "    if w_gen_feas.shape[0] != 0:\n",
    "        w_dist_history.append(np.linalg.norm(w - w_gen_feas))\n",
    "\n",
    "    mistakes0, mistakes1 = eval_perceptron(examples, targets, perceptron)\n",
    "    num_errs = len(mistakes0)+len(mistakes1)\n",
    "    num_err_history.append(num_errs)\n",
    "    print(\"Number of errors in iteration %d: %d\" % (iteration, num_errs))\n",
    "    plot_perceptron(examples, targets, mistakes0, mistakes1, num_err_history, w, w_dist_history)"
   ]
  },
  {
   "cell_type": "code",
   "execution_count": null,
   "metadata": {},
   "outputs": [],
   "source": []
  }
 ],
 "metadata": {
  "kernelspec": {
   "display_name": "Python 3",
   "language": "python",
   "name": "python3"
  },
  "language_info": {
   "codemirror_mode": {
    "name": "ipython",
    "version": 3
   },
   "file_extension": ".py",
   "mimetype": "text/x-python",
   "name": "python",
   "nbconvert_exporter": "python",
   "pygments_lexer": "ipython3",
   "version": "3.6.5"
  }
 },
 "nbformat": 4,
 "nbformat_minor": 2
}
