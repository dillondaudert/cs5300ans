{
 "cells": [
  {
   "cell_type": "code",
   "execution_count": 1,
   "metadata": {},
   "outputs": [],
   "source": [
    "import tensorflow as tf\n",
    "import pandas as pd"
   ]
  },
  {
   "cell_type": "code",
   "execution_count": 2,
   "metadata": {},
   "outputs": [],
   "source": [
    "def create_dataset(X_place, y_place, batch_size, num_epochs):\n",
    "    dataset = tf.data.Dataset.from_tensor_slices((X_place, y_place))\n",
    "    # X_place [num_samples, num_features]\n",
    "    dataset = dataset.shuffle(5000)\n",
    "    dataset = dataset.repeat(num_epochs)\n",
    "    dataset = dataset.batch(batch_size)\n",
    "    dataset = dataset.prefetch(1)\n",
    "    return dataset"
   ]
  },
  {
   "cell_type": "code",
   "execution_count": 3,
   "metadata": {},
   "outputs": [],
   "source": [
    "def create_model(iterator, mode):\n",
    "    x, y = iterator.get_next()\n",
    "    \n",
    "    hidden = tf.layers.dense(x, 400, activation=tf.nn.sigmoid)\n",
    "    hidden = tf.layers.dense(hidden, 100, activation=tf.nn.sigmoid)\n",
    "    \n",
    "    out = tf.layers.dense(hidden, 1, activation=tf.nn.sigmoid)\n",
    "    \n",
    "    loss = tf.losses.mean_squared_error(y, out)\n",
    "    tf.summary.scalar(\"MSE\", loss, collections=[\"summs\"])\n",
    "    \n",
    "    opt = tf.train.GradientDescentOptimizer(learning_rate=0.01)\n",
    "    # opt = tf.train.MomentumOptimizer(...)\n",
    "    update = opt.minimize(loss)\n",
    "    \n",
    "    return loss, out, update"
   ]
  },
  {
   "cell_type": "code",
   "execution_count": 4,
   "metadata": {},
   "outputs": [],
   "source": [
    "data = pd.read_csv(\"./normalized.csv\")\n",
    "X_data = data.iloc[:, 0:-1]\n",
    "y_data = data.iloc[:, [-1]]"
   ]
  },
  {
   "cell_type": "code",
   "execution_count": 5,
   "metadata": {},
   "outputs": [
    {
     "data": {
      "text/plain": [
       "(2329, 1)"
      ]
     },
     "execution_count": 5,
     "metadata": {},
     "output_type": "execute_result"
    }
   ],
   "source": [
    "y_data.shape"
   ]
  },
  {
   "cell_type": "code",
   "execution_count": 6,
   "metadata": {},
   "outputs": [],
   "source": [
    "X_placeholder = tf.placeholder(tf.float32, shape=X_data.shape)\n",
    "y_placeholder = tf.placeholder(tf.float32, shape=y_data.shape)\n",
    "dataset = create_dataset(X_placeholder, y_placeholder, 5, 1)\n",
    "iterator = dataset.make_initializable_iterator()\n",
    "loss, out, update = create_model(iterator, \"TRAIN\")"
   ]
  },
  {
   "cell_type": "code",
   "execution_count": 7,
   "metadata": {},
   "outputs": [],
   "source": [
    "writer = tf.summary.FileWriter(\"./housing/\")\n",
    "writer.add_graph(tf.get_default_graph())"
   ]
  },
  {
   "cell_type": "code",
   "execution_count": 8,
   "metadata": {},
   "outputs": [],
   "source": [
    "summaries = tf.summary.merge_all(\"summs\")"
   ]
  },
  {
   "cell_type": "code",
   "execution_count": 9,
   "metadata": {},
   "outputs": [
    {
     "name": "stdout",
     "output_type": "stream",
     "text": [
      "Step 50: 0.020\n",
      "Step 100: 0.004\n",
      "Step 150: 0.012\n",
      "Step 200: 0.013\n",
      "Step 250: 0.008\n",
      "Step 300: 0.034\n",
      "Step 350: 0.056\n",
      "Step 400: 0.005\n",
      "Step 450: 0.011\n",
      "Training done.\n"
     ]
    }
   ],
   "source": [
    "with tf.Session() as sess:\n",
    "    init = tf.global_variables_initializer()\n",
    "    sess.run(init)\n",
    "    sess.run(iterator.initializer,\n",
    "             feed_dict={X_placeholder: X_data,\n",
    "                        y_placeholder: y_data})\n",
    "    step = 0\n",
    "    while True:\n",
    "        try:\n",
    "            step += 1\n",
    "            tr_loss, _, summ = sess.run([loss, update, summaries])\n",
    "            if step % 50 == 0:\n",
    "                print(\"Step %d: %3.3f\" % (step, tr_loss))\n",
    "                writer.add_summary(summ, step)\n",
    "        except tf.errors.OutOfRangeError:\n",
    "            print(\"Training done.\")\n",
    "            writer.close()\n",
    "            break"
   ]
  },
  {
   "cell_type": "code",
   "execution_count": null,
   "metadata": {},
   "outputs": [],
   "source": []
  }
 ],
 "metadata": {
  "kernelspec": {
   "display_name": "Python 3",
   "language": "python",
   "name": "python3"
  },
  "language_info": {
   "codemirror_mode": {
    "name": "ipython",
    "version": 3
   },
   "file_extension": ".py",
   "mimetype": "text/x-python",
   "name": "python",
   "nbconvert_exporter": "python",
   "pygments_lexer": "ipython3",
   "version": "3.6.5"
  }
 },
 "nbformat": 4,
 "nbformat_minor": 2
}
